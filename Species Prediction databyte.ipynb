{
 "cells": [
  {
   "cell_type": "code",
   "execution_count": 2,
   "id": "e97c2cc2",
   "metadata": {},
   "outputs": [],
   "source": [
    "import os\n",
    "import shutil\n",
    "import random\n",
    "import tensorflow as tf\n",
    "from tensorflow import keras\n",
    "from tensorflow.keras.layers import Activation, Dense, Flatten\n",
    "from tensorflow.keras.optimizers import Adam\n",
    "from tensorflow.keras.preprocessing.image import ImageDataGenerator\n",
    "from tensorflow.keras.applications import VGG16\n",
    "from tensorflow.keras import layers, models\n",
    "from sklearn.metrics import confusion_matrix"
   ]
  },
  {
   "cell_type": "code",
   "execution_count": 3,
   "id": "5f0aaaea",
   "metadata": {},
   "outputs": [],
   "source": [
    "source_dir='/Users/kevinkomban/Documents/Databyte Inductions/Flowers Dataset/flowers'\n",
    "target='/Users/kevinkomban/Documents/Databyte Inductions/Flowers Dataset'\n",
    "for split in ['train','test','valid']:\n",
    "    for class_name in os.listdir(source_dir):\n",
    "        os.makedirs(os.path.join(target,split,class_name),exist_ok=True)\n",
    "    \n",
    "for class_name in os.listdir(source_dir):\n",
    "    class_path=os.path.join(source_dir,class_name)\n",
    "    images=os.listdir(class_path)\n",
    "    random.shuffle(images)\n",
    "    n_total=len(images)\n",
    "    n_train=round(n_total*0.70)\n",
    "    n_test=round(n_total*0.15)\n",
    "    n_valid=round(n_total*0.15)\n",
    "    splits={'train':images[:n_train],'valid':images[n_train:n_train+n_valid],'test':images[n_train+n_valid:n_train+n_valid+n_test]}\n",
    "    for split_names, image_list in splits.items():\n",
    "        for image in image_list:\n",
    "            src=os.path.join(class_path,image)\n",
    "            dest=os.path.join(target,split_names,class_name,image)\n",
    "            shutil.copy(src,dest)\n"
   ]
  },
  {
   "cell_type": "code",
   "execution_count": 4,
   "id": "6ef862df",
   "metadata": {},
   "outputs": [],
   "source": [
    "train_path='/Users/kevinkomban/Documents/Databyte Inductions/Flowers Dataset/train'\n",
    "test_path='/Users/kevinkomban/Documents/Databyte Inductions/Flowers Dataset/test'\n",
    "valid_path='/Users/kevinkomban/Documents/Databyte Inductions/Flowers Dataset/valid'"
   ]
  },
  {
   "cell_type": "code",
   "execution_count": 8,
   "id": "20d148d8",
   "metadata": {},
   "outputs": [
    {
     "name": "stdout",
     "output_type": "stream",
     "text": [
      "Found 4316 images belonging to 5 classes.\n",
      "Found 2292 images belonging to 5 classes.\n",
      "Found 2712 images belonging to 5 classes.\n"
     ]
    }
   ],
   "source": [
    "train_batches=ImageDataGenerator(preprocessing_function=tf.keras.applications.vgg16.preprocess_input).flow_from_directory(directory=train_path,target_size=(224,224), classes=['tulip','sunflower','rose','dandelion','daisy'], batch_size=10)\n",
    "test_batches=ImageDataGenerator(preprocessing_function=tf.keras.applications.vgg16.preprocess_input).flow_from_directory(directory=test_path,target_size=(224,224), classes=['tulip','sunflower','rose','dandelion','daisy'], batch_size=1,shuffle=False)\n",
    "valid_batches=ImageDataGenerator(preprocessing_function=tf.keras.applications.vgg16.preprocess_input).flow_from_directory(directory=valid_path,target_size=(224,224), classes=['tulip','sunflower','rose','dandelion','daisy'], batch_size=10)"
   ]
  },
  {
   "cell_type": "code",
   "execution_count": 6,
   "id": "c357c462",
   "metadata": {},
   "outputs": [
    {
     "name": "stdout",
     "output_type": "stream",
     "text": [
      "[name: \"/device:CPU:0\"\n",
      "device_type: \"CPU\"\n",
      "memory_limit: 268435456\n",
      "locality {\n",
      "}\n",
      "incarnation: 6543393221096066492\n",
      "xla_global_id: -1\n",
      ", name: \"/device:GPU:0\"\n",
      "device_type: \"GPU\"\n",
      "locality {\n",
      "  bus_id: 1\n",
      "}\n",
      "incarnation: 7601617530019259014\n",
      "physical_device_desc: \"device: 0, name: METAL, pci bus id: <undefined>\"\n",
      "xla_global_id: -1\n",
      "]\n"
     ]
    },
    {
     "name": "stderr",
     "output_type": "stream",
     "text": [
      "2025-07-09 21:28:03.269327: I metal_plugin/src/device/metal_device.cc:1154] Metal device set to: Apple M3 Pro\n",
      "2025-07-09 21:28:03.269458: I metal_plugin/src/device/metal_device.cc:296] systemMemory: 18.00 GB\n",
      "2025-07-09 21:28:03.269488: I metal_plugin/src/device/metal_device.cc:313] maxCacheSize: 6.00 GB\n",
      "WARNING: All log messages before absl::InitializeLog() is called are written to STDERR\n",
      "I0000 00:00:1752076683.269959  230103 pluggable_device_factory.cc:305] Could not identify NUMA node of platform GPU ID 0, defaulting to 0. Your kernel may not have been built with NUMA support.\n",
      "I0000 00:00:1752076683.270729  230103 pluggable_device_factory.cc:271] Created TensorFlow device (/device:GPU:0 with 0 MB memory) -> physical PluggableDevice (device: 0, name: METAL, pci bus id: <undefined>)\n"
     ]
    }
   ],
   "source": [
    "from tensorflow.python.client import device_lib\n",
    "print(device_lib.list_local_devices())"
   ]
  },
  {
   "cell_type": "code",
   "execution_count": 9,
   "id": "0d59925b",
   "metadata": {},
   "outputs": [
    {
     "name": "stdout",
     "output_type": "stream",
     "text": [
      "\u001b[1m2292/2292\u001b[0m \u001b[32m━━━━━━━━━━━━━━━━━━━━\u001b[0m\u001b[37m\u001b[0m \u001b[1m22s\u001b[0m 9ms/step - accuracy: 0.9918 - loss: 0.4556\n",
      "\n",
      " Test Accuracy: 0.99\n"
     ]
    }
   ],
   "source": [
    "base_model = VGG16(weights='imagenet', include_top=False, input_shape=(224, 224, 3))\n",
    "base_model.trainable = False\n",
    "model = models.Sequential([\n",
    "    base_model,\n",
    "    layers.Flatten(),\n",
    "    layers.Dense(128, activation='relu'),\n",
    "    layers.Dropout(0.5),\n",
    "    layers.Dense(train_batches.num_classes, activation='softmax')\n",
    "])\n",
    "model.compile(optimizer='adam', loss='categorical_crossentropy', metrics=['accuracy'])\n",
    "history = model.fit(train_batches, epochs=10, validation_data=valid_batches)\n",
    "test_loss, test_acc = model.evaluate(test_batches)\n",
    "print(f\"\\n Test Accuracy: {test_acc:.2f}\")"
   ]
  },
  {
   "cell_type": "code",
   "execution_count": null,
   "id": "55ef98d6",
   "metadata": {},
   "outputs": [],
   "source": []
  }
 ],
 "metadata": {
  "kernelspec": {
   "display_name": "Python 3 (ipykernel)",
   "language": "python",
   "name": "python3"
  },
  "language_info": {
   "codemirror_mode": {
    "name": "ipython",
    "version": 3
   },
   "file_extension": ".py",
   "mimetype": "text/x-python",
   "name": "python",
   "nbconvert_exporter": "python",
   "pygments_lexer": "ipython3",
   "version": "3.11.9"
  }
 },
 "nbformat": 4,
 "nbformat_minor": 5
}
